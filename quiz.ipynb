{
 "cells": [
  {
   "cell_type": "code",
   "execution_count": null,
   "id": "513aeeb2",
   "metadata": {},
   "outputs": [],
   "source": [
    "import pandas as pd\n",
    "from sklearn.model_selection import train_test_split\n",
    "from sklearn.preprocessing import StandardScaler\n",
    "\n",
    "\n",
    "data = pd.read_csv(\"AAPL.csv\")  \n",
    "\n",
    "\n",
    "print(data.head())\n",
    "\n",
    "\n",
    "data['Date'] = pd.to_datetime(data['Date'])\n",
    "\n",
    "\n",
    "data.set_index('Date', inplace=True)\n",
    "\n",
    "\n",
    "scaler = StandardScaler()\n",
    "data['Close'] = scaler.fit_transform(data[['Close']])\n",
    "\n",
    "\n",
    "train_data, test_data = train_test_split(data, test_size=0.2, shuffle=False)\n",
    "\n",
    "\n"
   ]
  },
  {
   "cell_type": "code",
   "execution_count": null,
   "id": "2b4132d0",
   "metadata": {},
   "outputs": [],
   "source": [
    "from keras.models import Sequential\n",
    "from keras.layers import LSTM, Dropout, Dense\n",
    "\n",
    "def create_lstm_model(input_shape, num_lstm_layers=1, lstm_units=50, dropout_rate=0.2):\n",
    "    model = Sequential()\n",
    "    \n",
    "    model.add(LSTM(units=lstm_units, return_sequences=True, input_shape=input_shape))\n",
    "    model.add(Dropout(dropout_rate))\n",
    "    \n",
    "\n",
    "    for _ in range(num_lstm_layers - 1):\n",
    "        model.add(LSTM(units=lstm_units, return_sequences=True))\n",
    "        model.add(Dropout(dropout_rate))\n",
    "    \n",
    "   \n",
    "    model.add(LSTM(units=lstm_units))\n",
    "    model.add(Dropout(dropout_rate))\n",
    "    \n",
    "    \n",
    "    model.add(Dense(units=1))\n",
    "    \n",
    "    return model\n",
    "\n",
    "\n",
    "input_shape = (10, 1)  \n",
    "\n",
    "\n",
    "model = create_lstm_model(input_shape, num_lstm_layers=2, lstm_units=64, dropout_rate=0.2)"
   ]
  },
  {
   "cell_type": "code",
   "execution_count": null,
   "id": "e901116c",
   "metadata": {},
   "outputs": [],
   "source": [
    "model.compile(optimizer='adam', loss='mean_squared_error')\n",
    "\n",
    "\n",
    "X_train = train_data.drop(columns=['Consumption']).values\n",
    "y_train = train_data['Consumption'].values\n",
    "X_test = test_data.drop(columns=['Consumption']).values\n",
    "y_test = test_data['Consumption'].values\n",
    "\n",
    "\n",
    "X_train = X_train.reshape((X_train.shape[0], X_train.shape[1], 1))\n",
    "X_test = X_test.reshape((X_test.shape[0], X_test.shape[1], 1))\n",
    "\n",
    "\n",
    "history = model.fit(X_train, y_train, validation_data=(X_test, y_test), epochs=50, batch_size=32, verbose=1)"
   ]
  }
 ],
 "metadata": {
  "kernelspec": {
   "display_name": "Python 3 (ipykernel)",
   "language": "python",
   "name": "python3"
  },
  "language_info": {
   "codemirror_mode": {
    "name": "ipython",
    "version": 3
   },
   "file_extension": ".py",
   "mimetype": "text/x-python",
   "name": "python",
   "nbconvert_exporter": "python",
   "pygments_lexer": "ipython3",
   "version": "3.11.5"
  }
 },
 "nbformat": 4,
 "nbformat_minor": 5
}
